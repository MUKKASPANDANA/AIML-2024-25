{
  "nbformat": 4,
  "nbformat_minor": 0,
  "metadata": {
    "colab": {
      "provenance": [],
      "authorship_tag": "ABX9TyNGtJqMO5alWQY0SqEysR7J",
      "include_colab_link": true
    },
    "kernelspec": {
      "name": "python3",
      "display_name": "Python 3"
    },
    "language_info": {
      "name": "python"
    }
  },
  "cells": [
    {
      "cell_type": "markdown",
      "metadata": {
        "id": "view-in-github",
        "colab_type": "text"
      },
      "source": [
        "<a href=\"https://colab.research.google.com/github/MUKKASPANDANA/AIML-2024-25/blob/main/LAB_02.ipynb\" target=\"_parent\"><img src=\"https://colab.research.google.com/assets/colab-badge.svg\" alt=\"Open In Colab\"/></a>"
      ]
    },
    {
      "cell_type": "markdown",
      "source": [
        "**LAB-02:IMPLEMENTATION  A* BFS**\n",
        "\n"
      ],
      "metadata": {
        "id": "4q2ZhASM2LvA"
      }
    },
    {
      "cell_type": "markdown",
      "source": [
        "**\"Graph Representation: Constructing an Undirected Graph Using Python Dictionary and Printing the Adjacency List\"**"
      ],
      "metadata": {
        "id": "IoVyieVLiZRk"
      }
    },
    {
      "cell_type": "code",
      "execution_count": null,
      "metadata": {
        "colab": {
          "base_uri": "https://localhost:8080/"
        },
        "id": "Sj0vXa7Wv54o",
        "outputId": "c4408893-3364-4adf-a5e1-a82bbed65c92"
      },
      "outputs": [
        {
          "output_type": "stream",
          "name": "stdout",
          "text": [
            "{0: [1, 3], 1: [0, 2, 3], 2: [4, 1, 5], 3: [4, 0, 1], 4: [2, 3, 5], 5: [4, 2], 6: []}\n"
          ]
        }
      ],
      "source": [
        "import numpy as np\n",
        "from queue import Queue\n",
        "graph ={0:[1,3],1:[0,2,3],2:[4,1,5],3:[4,0,1],4:[2,3,5],5:[4,2],6:[]}\n",
        "print(graph)"
      ]
    },
    {
      "cell_type": "markdown",
      "source": [
        "**\"Breadth-First Search Exploration: Traversing an Undirected Graph Starting from Source Vertex 0\"**"
      ],
      "metadata": {
        "id": "gsHbfz6Zij39"
      }
    },
    {
      "cell_type": "code",
      "source": [
        "def bfs(graph,source):\n",
        "  Q=Queue()\n",
        "  visited_vertices=set()\n",
        "  Q.put(source)\n",
        "  visited_vertices.update({0})\n",
        "  while not Q.empty():\n",
        "    vertex=Q.get()\n",
        "    print(vertex,end=\"-->\")\n",
        "    for u in graph[vertex]:\n",
        "      if u not in visited_vertices:\n",
        "        Q.put(u)\n",
        "        visited_vertices.update({u})\n",
        "\n",
        "print(\"bfs traversal of the graph source 0 is:\")\n",
        "bfs(graph,0)"
      ],
      "metadata": {
        "colab": {
          "base_uri": "https://localhost:8080/"
        },
        "id": "06EF92PgwiT4",
        "outputId": "61574584-98e1-4ec4-e8fa-cb39a5b94ea9"
      },
      "execution_count": null,
      "outputs": [
        {
          "output_type": "stream",
          "name": "stdout",
          "text": [
            "bfs traversal of the graph source 0 is:\n",
            "0-->1-->3-->2-->4-->5-->"
          ]
        }
      ]
    },
    {
      "cell_type": "markdown",
      "source": [
        "**\"Graph Initialization: Creating an Adjacency List for a Simple Graph Named 'Ammu'\"**"
      ],
      "metadata": {
        "id": "iBjEf-ZUivS0"
      }
    },
    {
      "cell_type": "code",
      "source": [
        "import numpy as np\n",
        "from queue import Queue\n",
        "Ammu={'A':['B','S'],'B':['A'],'C':['B','E','F','S'],'D':['C'],'E':['C','H'],'F':['C','G'],'G':['F','S','H'],'H':['E','G'],'S':['A','C','G']}\n",
        "print(Ammu)"
      ],
      "metadata": {
        "colab": {
          "base_uri": "https://localhost:8080/"
        },
        "id": "EaIoesKox-7F",
        "outputId": "e80243dc-8d0c-4edb-dd57-5b0ccfc3fa16"
      },
      "execution_count": null,
      "outputs": [
        {
          "output_type": "stream",
          "name": "stdout",
          "text": [
            "{'A': ['B', 'S'], 'B': ['A'], 'C': ['B', 'E', 'F', 'S'], 'D': ['C'], 'E': ['C', 'H'], 'F': ['C', 'G'], 'G': ['F', 'S', 'H'], 'H': ['E', 'G'], 'S': ['A', 'C', 'G']}\n"
          ]
        }
      ]
    },
    {
      "cell_type": "markdown",
      "source": [
        "**IMPLEMENTATION  A* DFS**"
      ],
      "metadata": {
        "id": "-F8MHdTz3Ac9"
      }
    },
    {
      "cell_type": "code",
      "source": [
        "def dfs(Ammu,node,visited):\n",
        "      if node not in visited:\n",
        "        visited.append(node)\n",
        "        for k in Ammu[node]:\n",
        "          dfs(Ammu,k,visited)\n",
        "      return visited\n",
        "\n",
        "\n",
        "visited = dfs(Ammu,'D',[])\n",
        "print(visited)"
      ],
      "metadata": {
        "colab": {
          "base_uri": "https://localhost:8080/"
        },
        "id": "E05yVshRz88C",
        "outputId": "facf5c51-2a54-44a0-a3ae-35b8f949f061"
      },
      "execution_count": null,
      "outputs": [
        {
          "output_type": "stream",
          "name": "stdout",
          "text": [
            "['D', 'C', 'B', 'A', 'S', 'G', 'F', 'H', 'E']\n"
          ]
        }
      ]
    },
    {
      "cell_type": "code",
      "source": [
        "def dfs(Ammu,node,visited):\n",
        "      if node not in visited:\n",
        "        visited.append(node)\n",
        "        for k in Ammu[node]:\n",
        "          dfs(Ammu,k,visited)\n",
        "      return visited\n",
        "\n",
        "\n",
        "visited = dfs(Ammu,'A',[])\n",
        "print(visited)"
      ],
      "metadata": {
        "colab": {
          "base_uri": "https://localhost:8080/"
        },
        "id": "VtjRiiQ52EWG",
        "outputId": "d51129d8-6d5a-4ef6-9977-dc6091e14309"
      },
      "execution_count": null,
      "outputs": [
        {
          "output_type": "stream",
          "name": "stdout",
          "text": [
            "['A', 'B', 'S', 'C', 'E', 'H', 'G', 'F']\n"
          ]
        }
      ]
    }
  ]
}